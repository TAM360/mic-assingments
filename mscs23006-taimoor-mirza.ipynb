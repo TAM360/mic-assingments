{
 "cells": [
  {
   "cell_type": "code",
   "execution_count": 1,
   "id": "4873c7df-0d9e-4c8f-a737-10b05faac762",
   "metadata": {},
   "outputs": [
    {
     "ename": "ModuleNotFoundError",
     "evalue": "No module named 'cv2'",
     "output_type": "error",
     "traceback": [
      "\u001b[0;31m---------------------------------------------------------------------------\u001b[0m",
      "\u001b[0;31mModuleNotFoundError\u001b[0m                       Traceback (most recent call last)",
      "Cell \u001b[0;32mIn[1], line 1\u001b[0m\n\u001b[0;32m----> 1\u001b[0m \u001b[38;5;28;01mimport\u001b[39;00m \u001b[38;5;21;01mcv2\u001b[39;00m \u001b[38;5;28;01mas\u001b[39;00m \u001b[38;5;21;01mcv\u001b[39;00m\n\u001b[1;32m      2\u001b[0m \u001b[38;5;28;01mimport\u001b[39;00m \u001b[38;5;21;01mnumpy\u001b[39;00m \u001b[38;5;28;01mas\u001b[39;00m \u001b[38;5;21;01mnp\u001b[39;00m\n\u001b[1;32m      4\u001b[0m \u001b[38;5;28;01mdef\u001b[39;00m \u001b[38;5;21mrescaleImage\u001b[39m(frame, scale\u001b[38;5;241m=\u001b[39m\u001b[38;5;241m0.5\u001b[39m):\n",
      "\u001b[0;31mModuleNotFoundError\u001b[0m: No module named 'cv2'"
     ]
    }
   ],
   "source": [
    "import cv2 as cv\n",
    "import numpy as np\n",
    "\n",
    "def rescaleImage(frame, scale=0.5):\n",
    "    width = int(frame.shape[1] * scale)\n",
    "    height = int(frame.shape[0] * scale)\n",
    "    dimensions = (width, height)\n",
    "\n",
    "    return cv.resize(frame, dimensions, interpolation=cv.INTER_AREA)\n",
    "\n",
    "img_44_19 = rescaleImage(cv.imread(\"Assignment_1_MIC/msds23006/44_19.jpg\"))\n",
    "img_11_12 = rescaleImage(cv.imread(\"Assignment_1_MIC/msds23006/11_22.jpg\"))\n",
    "img_99_28 = rescaleImage(cv.imread(\"Assignment_1_MIC/msds23006/99_28.jpg\"))\n",
    "img_101_20 = rescaleImage(cv.imread(\"Assignment_1_MIC/msds23006/101_20.jpg\"))\n",
    "img_103_32 = rescaleImage(cv.imread(\"Assignment_1_MIC/msds23006/102_32.jpg\"))"
   ]
  },
  {
   "cell_type": "markdown",
   "id": "0f329ab1",
   "metadata": {},
   "source": []
  },
  {
   "cell_type": "code",
   "execution_count": 2,
   "id": "8ae03eed",
   "metadata": {},
   "outputs": [
    {
     "data": {
      "text/plain": [
       "27"
      ]
     },
     "execution_count": 2,
     "metadata": {},
     "output_type": "execute_result"
    },
    {
     "ename": "",
     "evalue": "",
     "output_type": "error",
     "traceback": [
      "\u001b[1;31mThe Kernel crashed while executing code in the the current cell or a previous cell. Please review the code in the cell(s) to identify a possible cause of the failure. Click <a href='https://aka.ms/vscodeJupyterKernelCrash'>here</a> for more info. View Jupyter <a href='command:jupyter.viewOutput'>log</a> for further details."
     ]
    }
   ],
   "source": [
    "# Image preprocesing phase\n",
    "\n",
    "# 1. Erosion\n",
    "kernel = np.ones((5, 5), np.uint8)\n",
    "iterations = 3\n",
    "eroded = cv.erode(img_44_19, kernel, iterations=iterations)\n",
    "\n",
    "cv.imshow(\"original 44_19.jpg\", img_44_19)\n",
    "cv.imshow(\"eroded 44_19.jpg\", img_44_19)\n",
    "cv.waitKey(0)"
   ]
  }
 ],
 "metadata": {
  "kernelspec": {
   "display_name": "Python 3 (ipykernel)",
   "language": "python",
   "name": "python3"
  },
  "language_info": {
   "codemirror_mode": {
    "name": "ipython",
    "version": 3
   },
   "file_extension": ".py",
   "mimetype": "text/x-python",
   "name": "python",
   "nbconvert_exporter": "python",
   "pygments_lexer": "ipython3",
   "version": "3.8.10"
  }
 },
 "nbformat": 4,
 "nbformat_minor": 5
}
