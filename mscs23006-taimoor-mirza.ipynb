{
 "cells": [
  {
   "cell_type": "code",
   "execution_count": 3,
   "id": "4873c7df-0d9e-4c8f-a737-10b05faac762",
   "metadata": {},
   "outputs": [],
   "source": [
    "import cv2 as cv\n",
    "\n",
    "def rescaleImage(frame, scale=0.5):\n",
    "    width = int(frame.shape[1] * scale)\n",
    "    height = int(frame.shape[0] * scale)\n",
    "    dimensions = (width, height)\n",
    "\n",
    "    return cv.resize(frame, dimensions, interpolation=cv.INTER_AREA)\n",
    "\n",
    "img_44_19 = cv.imread(\"Assignment_1_MIC/msds23006/44_19.jpg\")\n",
    "img_11_12 = cv.imread(\"Assignment_1_MIC/msds23006/11_22.jpg\")\n",
    "img_99_28 = cv.imread(\"Assignment_1_MIC/msds23006/99_28.jpg\")\n",
    "img_101_20 = cv.imread(\"Assignment_1_MIC/msds23006/101_20.jpg\")\n",
    "img_103_32 = cv.imread(\"Assignment_1_MIC/msds23006/102_32.jpg\")"
   ]
  },
  {
   "cell_type": "code",
   "execution_count": null,
   "id": "58e9751c",
   "metadata": {},
   "outputs": [],
   "source": [
    "cv.imshow(\"11_12.jpg\", img_11_12)\n",
    "cv.waitKey(0)"
   ]
  },
  {
   "cell_type": "code",
   "execution_count": null,
   "id": "8ae03eed",
   "metadata": {},
   "outputs": [],
   "source": [
    "# Image preprocesing phase\n",
    "\n",
    "# 1. Erosion"
   ]
  }
 ],
 "metadata": {
  "kernelspec": {
   "display_name": "Python 3 (ipykernel)",
   "language": "python",
   "name": "python3"
  },
  "language_info": {
   "codemirror_mode": {
    "name": "ipython",
    "version": 3
   },
   "file_extension": ".py",
   "mimetype": "text/x-python",
   "name": "python",
   "nbconvert_exporter": "python",
   "pygments_lexer": "ipython3",
   "version": "3.8.10"
  }
 },
 "nbformat": 4,
 "nbformat_minor": 5
}
