{
 "cells": [
  {
   "cell_type": "code",
   "execution_count": 5,
   "id": "4873c7df-0d9e-4c8f-a737-10b05faac762",
   "metadata": {
    "ExecuteTime": {
     "end_time": "2023-09-27T07:56:55.777449871Z",
     "start_time": "2023-09-27T07:56:54.771394433Z"
    }
   },
   "outputs": [
    {
     "ename": "IndexError",
     "evalue": "too many indices for array: array is 1-dimensional, but 2 were indexed",
     "output_type": "error",
     "traceback": [
      "\u001b[0;31m---------------------------------------------------------------------------\u001b[0m",
      "\u001b[0;31mIndexError\u001b[0m                                Traceback (most recent call last)",
      "\u001b[1;32m/home/tam/Documents/docs/mscs-assignments/mic-assingment-1/mscs23006-taimoor-mirza-assignment-2.ipynb Cell 1\u001b[0m line \u001b[0;36m4\n\u001b[1;32m     <a href='vscode-notebook-cell:/home/tam/Documents/docs/mscs-assignments/mic-assingment-1/mscs23006-taimoor-mirza-assignment-2.ipynb#W0sZmlsZQ%3D%3D?line=38'>39</a>\u001b[0m         segment \u001b[39m=\u001b[39m image[y1:y2, x1:x2]\n\u001b[1;32m     <a href='vscode-notebook-cell:/home/tam/Documents/docs/mscs-assignments/mic-assingment-1/mscs23006-taimoor-mirza-assignment-2.ipynb#W0sZmlsZQ%3D%3D?line=40'>41</a>\u001b[0m         \u001b[39m# Display the segmented image on the canvas\u001b[39;00m\n\u001b[0;32m---> <a href='vscode-notebook-cell:/home/tam/Documents/docs/mscs-assignments/mic-assingment-1/mscs23006-taimoor-mirza-assignment-2.ipynb#W0sZmlsZQ%3D%3D?line=41'>42</a>\u001b[0m         output_image[y1:y2, x1:x2] \u001b[39m=\u001b[39m segment\n\u001b[1;32m     <a href='vscode-notebook-cell:/home/tam/Documents/docs/mscs-assignments/mic-assingment-1/mscs23006-taimoor-mirza-assignment-2.ipynb#W0sZmlsZQ%3D%3D?line=43'>44</a>\u001b[0m \u001b[39m# Display the segmented image\u001b[39;00m\n\u001b[1;32m     <a href='vscode-notebook-cell:/home/tam/Documents/docs/mscs-assignments/mic-assingment-1/mscs23006-taimoor-mirza-assignment-2.ipynb#W0sZmlsZQ%3D%3D?line=44'>45</a>\u001b[0m cv2\u001b[39m.\u001b[39mimshow(\u001b[39m\"\u001b[39m\u001b[39mSegmented Image\u001b[39m\u001b[39m\"\u001b[39m, output_image)\n",
      "\u001b[0;31mIndexError\u001b[0m: too many indices for array: array is 1-dimensional, but 2 were indexed"
     ]
    }
   ],
   "source": [
    "# import cv2 as cv\n",
    "# import numpy as np\n",
    "# import matplotlib.pyplot as plt\n",
    "\n",
    "# image_1 = cv.imread(\"./Dataset/1.jpg\", 0)\n",
    "# image_2 = cv.imread(\"./Dataset/2.jpg\", 0)\n",
    "# image_3 = cv.imread(\"./Dataset/3.jpg\", 0)\n",
    "# image_4 = cv.imread(\"./Dataset/4.jpg\", 0)\n",
    "\n",
    "import cv2\n",
    "import numpy as np\n",
    "\n",
    "# Load the image\n",
    "image = cv2.imread(\"./Dataset/1.jpg\")  # Replace \"your_image.jpg\" with your image file path\n",
    "\n",
    "# Define the number of rows and columns to split the image\n",
    "N = 4  # You can change N to any desired value\n",
    "\n",
    "# Get the dimensions of the image\n",
    "height, width, channels = image.shape\n",
    "\n",
    "# Calculate the height and width of each segment\n",
    "segment_height = height // N\n",
    "segment_width = width // N\n",
    "\n",
    "# Create an empty canvas to display the segmented images\n",
    "output_image = np.zeros_like(segment_height, segment_width)\n",
    "\n",
    "# Loop through the image and segment it\n",
    "for i in range(N):\n",
    "    for j in range(N):\n",
    "        # Calculate the coordinates of the segment\n",
    "        y1 = i * segment_height\n",
    "        y2 = (i + 1) * segment_height\n",
    "        x1 = j * segment_width\n",
    "        x2 = (j + 1) * segment_width\n",
    "\n",
    "        # Extract the segment from the original image\n",
    "        segment = image[y1:y2, x1:x2]\n",
    "\n",
    "        # Display the segmented image on the canvas\n",
    "        output_image[y1:y2, x1:x2] = segment\n",
    "\n",
    "# Display the segmented image\n",
    "cv2.imshow(\"Segmented Image\", output_image)\n",
    "\n",
    "# Wait for a key press and close the window\n",
    "cv2.waitKey(0)\n",
    "cv2.destroyAllWindows()\n"
   ]
  }
 ],
 "metadata": {
  "kernelspec": {
   "display_name": "Python 3 (ipykernel)",
   "language": "python",
   "name": "python3"
  },
  "language_info": {
   "codemirror_mode": {
    "name": "ipython",
    "version": 3
   },
   "file_extension": ".py",
   "mimetype": "text/x-python",
   "name": "python",
   "nbconvert_exporter": "python",
   "pygments_lexer": "ipython3",
   "version": "3.8.10"
  }
 },
 "nbformat": 4,
 "nbformat_minor": 5
}
